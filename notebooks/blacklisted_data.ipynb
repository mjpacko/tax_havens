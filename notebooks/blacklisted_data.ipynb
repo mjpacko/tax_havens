{
 "cells": [
  {
   "cell_type": "code",
   "execution_count": 48,
   "metadata": {},
   "outputs": [],
   "source": [
    "import pandas as pd "
   ]
  },
  {
   "cell_type": "code",
   "execution_count": 49,
   "metadata": {},
   "outputs": [],
   "source": [
    "#loading datasets\n",
    "df_fdi = pd.read_csv(\"../data/clean/fdi_percent_melt.csv\")\n",
    "df_fsi =  pd.read_csv(\"../data/clean/fsi_score_melt.csv\")\n"
   ]
  },
  {
   "cell_type": "code",
   "execution_count": 50,
   "metadata": {},
   "outputs": [
    {
     "data": {
      "text/html": [
       "<div>\n",
       "<style scoped>\n",
       "    .dataframe tbody tr th:only-of-type {\n",
       "        vertical-align: middle;\n",
       "    }\n",
       "\n",
       "    .dataframe tbody tr th {\n",
       "        vertical-align: top;\n",
       "    }\n",
       "\n",
       "    .dataframe thead th {\n",
       "        text-align: right;\n",
       "    }\n",
       "</style>\n",
       "<table border=\"1\" class=\"dataframe\">\n",
       "  <thead>\n",
       "    <tr style=\"text-align: right;\">\n",
       "      <th></th>\n",
       "      <th>Unnamed: 0</th>\n",
       "      <th>Country</th>\n",
       "      <th>Date</th>\n",
       "      <th>FDI %</th>\n",
       "    </tr>\n",
       "  </thead>\n",
       "  <tbody>\n",
       "    <tr>\n",
       "      <th>0</th>\n",
       "      <td>0</td>\n",
       "      <td>Anguilla</td>\n",
       "      <td>2008</td>\n",
       "      <td>49.54</td>\n",
       "    </tr>\n",
       "    <tr>\n",
       "      <th>1</th>\n",
       "      <td>1</td>\n",
       "      <td>Antigua and Barbuda</td>\n",
       "      <td>2008</td>\n",
       "      <td>30.97</td>\n",
       "    </tr>\n",
       "    <tr>\n",
       "      <th>2</th>\n",
       "      <td>2</td>\n",
       "      <td>Aruba</td>\n",
       "      <td>2008</td>\n",
       "      <td>2.25</td>\n",
       "    </tr>\n",
       "    <tr>\n",
       "      <th>3</th>\n",
       "      <td>3</td>\n",
       "      <td>Bahamas</td>\n",
       "      <td>2008</td>\n",
       "      <td>50.75</td>\n",
       "    </tr>\n",
       "    <tr>\n",
       "      <th>4</th>\n",
       "      <td>4</td>\n",
       "      <td>Bahrain</td>\n",
       "      <td>2008</td>\n",
       "      <td>29.72</td>\n",
       "    </tr>\n",
       "  </tbody>\n",
       "</table>\n",
       "</div>"
      ],
      "text/plain": [
       "   Unnamed: 0              Country  Date  FDI %\n",
       "0           0             Anguilla  2008  49.54\n",
       "1           1  Antigua and Barbuda  2008  30.97\n",
       "2           2                Aruba  2008   2.25\n",
       "3           3              Bahamas  2008  50.75\n",
       "4           4              Bahrain  2008  29.72"
      ]
     },
     "execution_count": 50,
     "metadata": {},
     "output_type": "execute_result"
    }
   ],
   "source": [
    "#clean fdi df\n",
    "\n",
    "\n",
    "df_fdi = df_fdi.rename(columns={'FDI as percentage of capital': 'FDI %'})\n",
    "\n",
    "df_fdi.head()"
   ]
  },
  {
   "cell_type": "code",
   "execution_count": 51,
   "metadata": {},
   "outputs": [
    {
     "data": {
      "text/html": [
       "<div>\n",
       "<style scoped>\n",
       "    .dataframe tbody tr th:only-of-type {\n",
       "        vertical-align: middle;\n",
       "    }\n",
       "\n",
       "    .dataframe tbody tr th {\n",
       "        vertical-align: top;\n",
       "    }\n",
       "\n",
       "    .dataframe thead th {\n",
       "        text-align: right;\n",
       "    }\n",
       "</style>\n",
       "<table border=\"1\" class=\"dataframe\">\n",
       "  <thead>\n",
       "    <tr style=\"text-align: right;\">\n",
       "      <th></th>\n",
       "      <th>Country</th>\n",
       "      <th>Date</th>\n",
       "      <th>FSI Score</th>\n",
       "    </tr>\n",
       "  </thead>\n",
       "  <tbody>\n",
       "    <tr>\n",
       "      <th>0</th>\n",
       "      <td>Aruba</td>\n",
       "      <td>2011</td>\n",
       "      <td>74.20</td>\n",
       "    </tr>\n",
       "    <tr>\n",
       "      <th>1</th>\n",
       "      <td>Anguilla</td>\n",
       "      <td>2011</td>\n",
       "      <td>0.00</td>\n",
       "    </tr>\n",
       "    <tr>\n",
       "      <th>2</th>\n",
       "      <td>United Arab Emirates</td>\n",
       "      <td>2011</td>\n",
       "      <td>0.00</td>\n",
       "    </tr>\n",
       "    <tr>\n",
       "      <th>3</th>\n",
       "      <td>American Samoa</td>\n",
       "      <td>2011</td>\n",
       "      <td>79.27</td>\n",
       "    </tr>\n",
       "    <tr>\n",
       "      <th>4</th>\n",
       "      <td>Antigua and Barbuda</td>\n",
       "      <td>2011</td>\n",
       "      <td>0.00</td>\n",
       "    </tr>\n",
       "  </tbody>\n",
       "</table>\n",
       "</div>"
      ],
      "text/plain": [
       "                Country  Date  FSI Score\n",
       "0                 Aruba  2011      74.20\n",
       "1              Anguilla  2011       0.00\n",
       "2  United Arab Emirates  2011       0.00\n",
       "3        American Samoa  2011      79.27\n",
       "4   Antigua and Barbuda  2011       0.00"
      ]
     },
     "execution_count": 51,
     "metadata": {},
     "output_type": "execute_result"
    }
   ],
   "source": [
    "#clean fsi df\n",
    "\n",
    "df_fsi = df_fsi.drop('Unnamed: 0', axis=1)\n",
    "df_fsi = df_fsi.drop('Country Code', axis=1)\n",
    "df_fsi = df_fsi.rename(columns={'Financial Secrecy Index': 'FSI Score'})\n",
    "\n",
    "df_fsi['Date'] = pd.to_datetime(df_fsi['Date'], format='%d-%m-%Y')\n",
    "df_fsi['Date'] = df_fsi['Date'].dt.year\n",
    "\n",
    "df_fsi.head()"
   ]
  },
  {
   "cell_type": "code",
   "execution_count": 52,
   "metadata": {},
   "outputs": [],
   "source": [
    "#drop unneccesary countries\n",
    "\n",
    "values_to_keep = ['Fiji', 'Russia', 'Samoa', 'Trinidad and Tobago', 'US Virgin Islands', 'Vanuatu']\n",
    "df_fsi = df_fsi[df_fsi['Country'].isin(values_to_keep)]\n",
    "df_fdi = df_fdi[df_fdi['Country'].isin(values_to_keep)]\n",
    "fdi_bl_final = df_fdi[df_fdi['Date'] >= 2017]\n",
    "fsi_bl_final = df_fsi[df_fsi['Date'] >= 2017]"
   ]
  },
  {
   "cell_type": "code",
   "execution_count": 41,
   "metadata": {},
   "outputs": [
    {
     "name": "stdout",
     "output_type": "stream",
     "text": [
      "     Unnamed: 0              Country  Date  FDI %\n",
      "301         301                 Fiji  2017  37.54\n",
      "313         313                Samoa  2017   3.14\n",
      "315         315  Trinidad and Tobago  2017  -9.02\n",
      "319         319              Vanuatu  2017  15.98\n",
      "333         333                 Fiji  2018  44.89\n",
      "345         345                Samoa  2018   6.17\n",
      "347         347  Trinidad and Tobago  2018 -16.89\n",
      "351         351              Vanuatu  2018  16.00\n",
      "365         365                 Fiji  2019  32.42\n",
      "377         377                Samoa  2019  -1.40\n",
      "379         379  Trinidad and Tobago  2019   4.03\n",
      "383         383              Vanuatu  2019  23.49\n",
      "397         397                 Fiji  2020  29.51\n",
      "409         409                Samoa  2020   1.68\n",
      "411         411  Trinidad and Tobago  2020  22.61\n",
      "415         415              Vanuatu  2020  13.91\n",
      "429         429                 Fiji  2021  48.73\n",
      "441         441                Samoa  2021   3.30\n",
      "443         443  Trinidad and Tobago  2021 -34.32\n",
      "447         447              Vanuatu  2021   8.34\n",
      "461         461                 Fiji  2022  11.77\n",
      "473         473                Samoa  2022   1.61\n",
      "475         475  Trinidad and Tobago  2022 -70.35\n",
      "479         479              Vanuatu  2022   1.91\n",
      "493         493                 Fiji  2023  10.32\n",
      "505         505                Samoa  2023  -0.98\n",
      "507         507  Trinidad and Tobago  2023 -85.15\n",
      "511         511              Vanuatu  2023   1.64\n"
     ]
    }
   ],
   "source": [
    "print(fdi_bl_final)"
   ]
  },
  {
   "cell_type": "code",
   "execution_count": null,
   "metadata": {},
   "outputs": [
    {
     "ename": "",
     "evalue": "",
     "output_type": "error",
     "traceback": [
      "\u001b[1;31mThe Kernel crashed while executing code in the current cell or a previous cell. \n",
      "\u001b[1;31mPlease review the code in the cell(s) to identify a possible cause of the failure. \n",
      "\u001b[1;31mClick <a href='https://aka.ms/vscodeJupyterKernelCrash'>here</a> for more info. \n",
      "\u001b[1;31mView Jupyter <a href='command:jupyter.viewOutput'>log</a> for further details."
     ]
    }
   ],
   "source": [
    "fdi_bl_final.to_csv('../data/clean/blacklisted_fdi.csv', index=True)"
   ]
  },
  {
   "cell_type": "code",
   "execution_count": 58,
   "metadata": {},
   "outputs": [],
   "source": [
    "fsi_bl_final.to_csv('../data/clean/blacklisted_fsi.csv', index=True)"
   ]
  },
  {
   "cell_type": "code",
   "execution_count": 42,
   "metadata": {},
   "outputs": [
    {
     "data": {
      "text/html": [
       "<div>\n",
       "<style scoped>\n",
       "    .dataframe tbody tr th:only-of-type {\n",
       "        vertical-align: middle;\n",
       "    }\n",
       "\n",
       "    .dataframe tbody tr th {\n",
       "        vertical-align: top;\n",
       "    }\n",
       "\n",
       "    .dataframe thead th {\n",
       "        text-align: right;\n",
       "    }\n",
       "</style>\n",
       "<table border=\"1\" class=\"dataframe\">\n",
       "  <thead>\n",
       "    <tr style=\"text-align: right;\">\n",
       "      <th></th>\n",
       "      <th>Unnamed: 0</th>\n",
       "      <th>Country</th>\n",
       "      <th>Date</th>\n",
       "      <th>FDI %</th>\n",
       "    </tr>\n",
       "  </thead>\n",
       "  <tbody>\n",
       "    <tr>\n",
       "      <th>0</th>\n",
       "      <td>301</td>\n",
       "      <td>Fiji</td>\n",
       "      <td>2017</td>\n",
       "      <td>37.54</td>\n",
       "    </tr>\n",
       "    <tr>\n",
       "      <th>6</th>\n",
       "      <td>493</td>\n",
       "      <td>Fiji</td>\n",
       "      <td>2023</td>\n",
       "      <td>10.32</td>\n",
       "    </tr>\n",
       "    <tr>\n",
       "      <th>7</th>\n",
       "      <td>313</td>\n",
       "      <td>Samoa</td>\n",
       "      <td>2017</td>\n",
       "      <td>3.14</td>\n",
       "    </tr>\n",
       "    <tr>\n",
       "      <th>13</th>\n",
       "      <td>505</td>\n",
       "      <td>Samoa</td>\n",
       "      <td>2023</td>\n",
       "      <td>-0.98</td>\n",
       "    </tr>\n",
       "    <tr>\n",
       "      <th>14</th>\n",
       "      <td>315</td>\n",
       "      <td>Trinidad and Tobago</td>\n",
       "      <td>2017</td>\n",
       "      <td>-9.02</td>\n",
       "    </tr>\n",
       "    <tr>\n",
       "      <th>20</th>\n",
       "      <td>507</td>\n",
       "      <td>Trinidad and Tobago</td>\n",
       "      <td>2023</td>\n",
       "      <td>-85.15</td>\n",
       "    </tr>\n",
       "    <tr>\n",
       "      <th>21</th>\n",
       "      <td>319</td>\n",
       "      <td>Vanuatu</td>\n",
       "      <td>2017</td>\n",
       "      <td>15.98</td>\n",
       "    </tr>\n",
       "    <tr>\n",
       "      <th>27</th>\n",
       "      <td>511</td>\n",
       "      <td>Vanuatu</td>\n",
       "      <td>2023</td>\n",
       "      <td>1.64</td>\n",
       "    </tr>\n",
       "  </tbody>\n",
       "</table>\n",
       "</div>"
      ],
      "text/plain": [
       "    Unnamed: 0              Country  Date  FDI %\n",
       "0          301                 Fiji  2017  37.54\n",
       "6          493                 Fiji  2023  10.32\n",
       "7          313                Samoa  2017   3.14\n",
       "13         505                Samoa  2023  -0.98\n",
       "14         315  Trinidad and Tobago  2017  -9.02\n",
       "20         507  Trinidad and Tobago  2023 -85.15\n",
       "21         319              Vanuatu  2017  15.98\n",
       "27         511              Vanuatu  2023   1.64"
      ]
     },
     "execution_count": 42,
     "metadata": {},
     "output_type": "execute_result"
    }
   ],
   "source": [
    "# calculate the average change from start to finish FDI\n",
    "\n",
    "# Sort the DataFrame by 'Country' and 'Date' to ensure chronological order\n",
    "df_sorted = fdi_bl_final.sort_values(by=['Country', 'Date'])\n",
    "\n",
    "# Filter to keep only the first and last entry for each 'Country'\n",
    "first_last_entries = df_sorted.groupby('Country').agg(\n",
    "    first_entry=('FDI %', 'first'),\n",
    "    last_entry=('FDI %', 'last')\n",
    ").reset_index()\n",
    "\n",
    "# Merge the original DataFrame with the first and last entries\n",
    "filtered_df = pd.merge(df_sorted, first_last_entries[['Country', 'first_entry', 'last_entry']], \n",
    "                       on='Country', how='inner')\n",
    "\n",
    "# Filter rows where FDI % is either the first or last entry\n",
    "filtered_df = filtered_df[(filtered_df['FDI %'] == filtered_df['first_entry']) | \n",
    "                          (filtered_df['FDI %'] == filtered_df['last_entry'])]\n",
    "\n",
    "# Drop the helper columns\n",
    "filtered_df = filtered_df.drop(columns=['first_entry', 'last_entry'])\n",
    "#filtered_df = filtered_df[filtered_df['Country'] != 'Cayman Islands']\n",
    "filtered_df"
   ]
  },
  {
   "cell_type": "code",
   "execution_count": 45,
   "metadata": {},
   "outputs": [
    {
     "name": "stdout",
     "output_type": "stream",
     "text": [
      "                     Percentage Change in FDI%\n",
      "Country                                       \n",
      "Fiji                                -72.509323\n",
      "Samoa                              -131.210191\n",
      "Trinidad and Tobago                 844.013304\n",
      "Vanuatu                             -89.737171\n"
     ]
    },
    {
     "name": "stderr",
     "output_type": "stream",
     "text": [
      "C:\\Users\\MJ\\AppData\\Local\\Temp\\ipykernel_30132\\2675987928.py:13: DeprecationWarning: DataFrameGroupBy.apply operated on the grouping columns. This behavior is deprecated, and in a future version of pandas the grouping columns will be excluded from the operation. Either pass `include_groups=False` to exclude the groupings or explicitly select the grouping columns after groupby to silence this warning.\n",
      "  percentage_change_df_fdi = filtered_df.groupby('Country').apply(calculate_percentage_change)\n"
     ]
    }
   ],
   "source": [
    "\n",
    "def calculate_percentage_change(group):\n",
    "    if len(group) >= 2:  # Ensure there are at least 2 entries\n",
    "        first_fdi = group.iloc[0]['FDI %']\n",
    "        second_fdi = group.iloc[1]['FDI %']\n",
    "        \n",
    "        # Calculate the percentage change\n",
    "        change = ((second_fdi - first_fdi)/first_fdi)*100\n",
    "        return pd.Series({'Percentage Change in FDI%': change})\n",
    "    else:\n",
    "        return pd.Series({'Percentage Change in FDI %': None})  # If there's less than 2 entries, return None\n",
    "\n",
    "# Apply the function to each group\n",
    "percentage_change_df_fdi = filtered_df.groupby('Country').apply(calculate_percentage_change)\n",
    "\n",
    "# Display the result\n",
    "print(percentage_change_df_fdi)\n"
   ]
  },
  {
   "cell_type": "code",
   "execution_count": 46,
   "metadata": {},
   "outputs": [
    {
     "name": "stdout",
     "output_type": "stream",
     "text": [
      "                     Percentage Change in FDI%\n",
      "Fiji                                     -72.5\n",
      "Samoa                                   -131.2\n",
      "Trinidad and Tobago                      844.0\n",
      "Vanuatu                                  -89.7\n",
      "Average                                  137.6\n",
      "Median                                   -81.1\n"
     ]
    }
   ],
   "source": [
    "#adding average and median\n",
    " \n",
    "average_change = percentage_change_df_fdi['Percentage Change in FDI%'].mean()\n",
    "median_change = percentage_change_df_fdi['Percentage Change in FDI%'].median()\n",
    "\n",
    "# Create new rows for the average and median\n",
    "aggregate_row = pd.Series({'Percentage Change in FDI%': average_change}, name='Average')\n",
    "median_row = pd.Series({'Percentage Change in FDI%': median_change}, name='Median')\n",
    "\n",
    "# Append the new rows to the DataFrame\n",
    "percentage_change_df_fdi_final = pd.concat([percentage_change_df_fdi, aggregate_row.to_frame().T, median_row.to_frame().T])\n",
    "\n",
    "percentage_change_df_fdi_final['Percentage Change in FDI%'] = percentage_change_df_fdi_final['Percentage Change in FDI%'].round(1)\n",
    "\n",
    "# Display the final DataFrame\n",
    "print(percentage_change_df_fdi_final)"
   ]
  },
  {
   "cell_type": "code",
   "execution_count": 54,
   "metadata": {},
   "outputs": [
    {
     "name": "stderr",
     "output_type": "stream",
     "text": [
      "C:\\Users\\MJ\\AppData\\Local\\Temp\\ipykernel_30132\\3961018735.py:29: RuntimeWarning: invalid value encountered in scalar divide\n",
      "  change = ((second_fdi - first_fdi)/second_fdi)*100\n",
      "C:\\Users\\MJ\\AppData\\Local\\Temp\\ipykernel_30132\\3961018735.py:35: DeprecationWarning: DataFrameGroupBy.apply operated on the grouping columns. This behavior is deprecated, and in a future version of pandas the grouping columns will be excluded from the operation. Either pass `include_groups=False` to exclude the groupings or explicitly select the grouping columns after groupby to silence this warning.\n",
      "  percentage_change_df_nas = filtered_df.groupby('Country').apply(calculate_percentage_change)\n"
     ]
    },
    {
     "data": {
      "text/html": [
       "<div>\n",
       "<style scoped>\n",
       "    .dataframe tbody tr th:only-of-type {\n",
       "        vertical-align: middle;\n",
       "    }\n",
       "\n",
       "    .dataframe tbody tr th {\n",
       "        vertical-align: top;\n",
       "    }\n",
       "\n",
       "    .dataframe thead th {\n",
       "        text-align: right;\n",
       "    }\n",
       "</style>\n",
       "<table border=\"1\" class=\"dataframe\">\n",
       "  <thead>\n",
       "    <tr style=\"text-align: right;\">\n",
       "      <th></th>\n",
       "      <th>Percentage Change in FSI Score</th>\n",
       "    </tr>\n",
       "    <tr>\n",
       "      <th>Country</th>\n",
       "      <th></th>\n",
       "    </tr>\n",
       "  </thead>\n",
       "  <tbody>\n",
       "    <tr>\n",
       "      <th>Fiji</th>\n",
       "      <td>-2.334096</td>\n",
       "    </tr>\n",
       "    <tr>\n",
       "      <th>Russia</th>\n",
       "      <td>-0.099867</td>\n",
       "    </tr>\n",
       "    <tr>\n",
       "      <th>Trinidad and Tobago</th>\n",
       "      <td>0.305188</td>\n",
       "    </tr>\n",
       "    <tr>\n",
       "      <th>Vanuatu</th>\n",
       "      <td>-20.994718</td>\n",
       "    </tr>\n",
       "  </tbody>\n",
       "</table>\n",
       "</div>"
      ],
      "text/plain": [
       "                     Percentage Change in FSI Score\n",
       "Country                                            \n",
       "Fiji                                      -2.334096\n",
       "Russia                                    -0.099867\n",
       "Trinidad and Tobago                        0.305188\n",
       "Vanuatu                                  -20.994718"
      ]
     },
     "execution_count": 54,
     "metadata": {},
     "output_type": "execute_result"
    }
   ],
   "source": [
    "# calculate the average change from start to finish FSI\n",
    "\n",
    "# Sort the DataFrame by 'Country' and 'Date' to ensure chronological order\n",
    "df_sorted = fsi_bl_final.sort_values(by=['Country', 'Date'])\n",
    "\n",
    "# Filter to keep only the first and last entry for each 'Country'\n",
    "first_last_entries = df_sorted.groupby('Country').agg(\n",
    "    first_entry=('FSI Score', 'first'),\n",
    "    last_entry=('FSI Score', 'last')\n",
    ").reset_index()\n",
    "\n",
    "# Merge the original DataFrame with the first and last entries\n",
    "filtered_df = pd.merge(df_sorted, first_last_entries[['Country', 'first_entry', 'last_entry']], \n",
    "                       on='Country', how='inner')\n",
    "\n",
    "# Filter rows where FDI % is either the first or last entry\n",
    "filtered_df = filtered_df[(filtered_df['FSI Score'] == filtered_df['first_entry']) | \n",
    "                          (filtered_df['FSI Score'] == filtered_df['last_entry'])]\n",
    "\n",
    "# Drop the helper columns\n",
    "filtered_df = filtered_df.drop(columns=['first_entry', 'last_entry'])\n",
    "\n",
    "def calculate_percentage_change(group):\n",
    "    if len(group) >= 2:  # Ensure there are at least 2 entries\n",
    "        first_fdi = group.iloc[0]['FSI Score']\n",
    "        second_fdi = group.iloc[1]['FSI Score']\n",
    "        \n",
    "        # Calculate the percentage change\n",
    "        change = ((second_fdi - first_fdi)/second_fdi)*100\n",
    "        return pd.Series({'Percentage Change in FSI Score': change})\n",
    "    else:\n",
    "        return None  # If there are less than 2 entries, return None to exclude the group\n",
    "\n",
    "# Apply the function to each group\n",
    "percentage_change_df_nas = filtered_df.groupby('Country').apply(calculate_percentage_change)\n",
    "\n",
    "# Display the result\n",
    "percentage_change_df_fsi = percentage_change_df_nas.dropna()\n",
    "\n",
    "percentage_change_df_fsi.head()"
   ]
  },
  {
   "cell_type": "code",
   "execution_count": 55,
   "metadata": {},
   "outputs": [
    {
     "name": "stdout",
     "output_type": "stream",
     "text": [
      "                     Percentage Change in FSI Score\n",
      "Fiji                                           -2.3\n",
      "Russia                                         -0.1\n",
      "Trinidad and Tobago                             0.3\n",
      "Vanuatu                                       -21.0\n",
      "Average                                        -5.8\n",
      "Median                                         -1.2\n"
     ]
    }
   ],
   "source": [
    "#adding average and median\n",
    " \n",
    "average_change = percentage_change_df_fsi['Percentage Change in FSI Score'].mean()\n",
    "median_change = percentage_change_df_fsi['Percentage Change in FSI Score'].median()\n",
    "\n",
    "# Create new rows for the average and median\n",
    "aggregate_row = pd.Series({'Percentage Change in FSI Score': average_change}, name='Average')\n",
    "median_row = pd.Series({'Percentage Change in FSI Score': median_change}, name='Median')\n",
    "\n",
    "# Append the new rows to the DataFrame\n",
    "percentage_change_df_fsi_final = pd.concat([percentage_change_df_fsi, aggregate_row.to_frame().T, median_row.to_frame().T])\n",
    "\n",
    "percentage_change_df_fsi_final['Percentage Change in FSI Score'] = percentage_change_df_fsi_final['Percentage Change in FSI Score'].round(1)\n",
    "\n",
    "# Display the final DataFrame\n",
    "print(percentage_change_df_fsi_final)"
   ]
  },
  {
   "cell_type": "code",
   "execution_count": 56,
   "metadata": {},
   "outputs": [],
   "source": [
    "percentage_change_df_fdi_final.to_csv('../data/clean/percentage_change_df_fdi_blacklist.csv', index=True)"
   ]
  },
  {
   "cell_type": "code",
   "execution_count": 57,
   "metadata": {},
   "outputs": [],
   "source": [
    "percentage_change_df_fsi_final.to_csv('../data/clean/percentage_change_df_fsi_blacklist.csv', index=True)"
   ]
  },
  {
   "cell_type": "code",
   "execution_count": null,
   "metadata": {},
   "outputs": [],
   "source": []
  },
  {
   "cell_type": "code",
   "execution_count": null,
   "metadata": {},
   "outputs": [],
   "source": []
  }
 ],
 "metadata": {
  "kernelspec": {
   "display_name": "base",
   "language": "python",
   "name": "python3"
  },
  "language_info": {
   "codemirror_mode": {
    "name": "ipython",
    "version": 3
   },
   "file_extension": ".py",
   "mimetype": "text/x-python",
   "name": "python",
   "nbconvert_exporter": "python",
   "pygments_lexer": "ipython3",
   "version": "3.12.4"
  }
 },
 "nbformat": 4,
 "nbformat_minor": 2
}
